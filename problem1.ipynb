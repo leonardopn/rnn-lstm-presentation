{
 "cells": [
  {
   "cell_type": "markdown",
   "id": "dc58549b",
   "metadata": {},
   "source": [
    "# Problema 1 - Utilizar RNN para prever se uma critica é positiva ou negativa considerando criticas pequenas (max 200 palavras)"
   ]
  },
  {
   "cell_type": "code",
   "execution_count": 1,
   "id": "18ed396f",
   "metadata": {},
   "outputs": [],
   "source": [
    "import pandas as pd\n",
    "\n",
    "df = pd.read_csv('./dataset/rotten_tomatoes_movie_reviews.csv')"
   ]
  },
  {
   "cell_type": "code",
   "execution_count": 2,
   "id": "90c4ed9d",
   "metadata": {},
   "outputs": [
    {
     "data": {
      "application/vnd.microsoft.datawrangler.viewer.v0+json": {
       "columns": [
        {
         "name": "index",
         "rawType": "int64",
         "type": "integer"
        },
        {
         "name": "id",
         "rawType": "object",
         "type": "string"
        },
        {
         "name": "reviewId",
         "rawType": "int64",
         "type": "integer"
        },
        {
         "name": "creationDate",
         "rawType": "object",
         "type": "string"
        },
        {
         "name": "criticName",
         "rawType": "object",
         "type": "string"
        },
        {
         "name": "isTopCritic",
         "rawType": "bool",
         "type": "boolean"
        },
        {
         "name": "originalScore",
         "rawType": "object",
         "type": "unknown"
        },
        {
         "name": "reviewState",
         "rawType": "object",
         "type": "string"
        },
        {
         "name": "publicatioName",
         "rawType": "object",
         "type": "string"
        },
        {
         "name": "reviewText",
         "rawType": "object",
         "type": "string"
        },
        {
         "name": "scoreSentiment",
         "rawType": "object",
         "type": "string"
        },
        {
         "name": "reviewUrl",
         "rawType": "object",
         "type": "string"
        }
       ],
       "ref": "dbe373bf-3df5-47e9-9854-a3ac78fbdf05",
       "rows": [
        [
         "0",
         "beavers",
         "1145982",
         "2003-05-23",
         "Ivan M. Lincoln",
         "False",
         "3.5/4",
         "fresh",
         "Deseret News (Salt Lake City)",
         "Timed to be just long enough for most youngsters' brief attention spans -- and it's packed with plenty of interesting activity, both on land and under the water.",
         "POSITIVE",
         "http://www.deseretnews.com/article/700003233/Beavers.html"
        ],
        [
         "1",
         "blood_mask",
         "1636744",
         "2007-06-02",
         "The Foywonder",
         "False",
         "1/5",
         "rotten",
         "Dread Central",
         "It doesn't matter if a movie costs 300 million or only 300 dollars; good is good and bad is bad, and Bloodmask: The Possession of Nicole Lameroux is just plain bad.",
         "NEGATIVE",
         "http://www.dreadcentral.com/index.php?name=Reviews&req=showcontent&id=1466"
        ],
        [
         "2",
         "city_hunter_shinjuku_private_eyes",
         "2590987",
         "2019-05-28",
         "Reuben Baron",
         "False",
         null,
         "fresh",
         "CBR",
         "The choreography is so precise and lifelike at points one might wonder whether the movie was rotoscoped, but no live-action reference footage was used. The quality is due to the skill of the animators and Kodama's love for professional wrestling.",
         "POSITIVE",
         "https://www.cbr.com/city-hunter-shinjuku-private-eyes-review/"
        ],
        [
         "3",
         "city_hunter_shinjuku_private_eyes",
         "2558908",
         "2019-02-14",
         "Matt Schley",
         "False",
         "2.5/5",
         "rotten",
         "Japan Times",
         "The film's out-of-touch attempts at humor may find them hunting for the reason the franchise was so popular in the first place.",
         "NEGATIVE",
         "https://www.japantimes.co.jp/culture/2019/02/06/films/film-reviews/city-hunter-movie-shinjuku-private-eyes-dated-gags-modern-day-tokyo/#.XGXYvJNKjOS"
        ],
        [
         "4",
         "dangerous_men_2015",
         "2504681",
         "2018-08-29",
         "Pat Padua",
         "False",
         null,
         "fresh",
         "DCist",
         "Its clumsy determination is endearing and sometimes wildly entertaining",
         "POSITIVE",
         "http://dcist.com/2015/11/out_of_frame_dangerous_men.php"
        ]
       ],
       "shape": {
        "columns": 11,
        "rows": 5
       }
      },
      "text/html": [
       "<div>\n",
       "<style scoped>\n",
       "    .dataframe tbody tr th:only-of-type {\n",
       "        vertical-align: middle;\n",
       "    }\n",
       "\n",
       "    .dataframe tbody tr th {\n",
       "        vertical-align: top;\n",
       "    }\n",
       "\n",
       "    .dataframe thead th {\n",
       "        text-align: right;\n",
       "    }\n",
       "</style>\n",
       "<table border=\"1\" class=\"dataframe\">\n",
       "  <thead>\n",
       "    <tr style=\"text-align: right;\">\n",
       "      <th></th>\n",
       "      <th>id</th>\n",
       "      <th>reviewId</th>\n",
       "      <th>creationDate</th>\n",
       "      <th>criticName</th>\n",
       "      <th>isTopCritic</th>\n",
       "      <th>originalScore</th>\n",
       "      <th>reviewState</th>\n",
       "      <th>publicatioName</th>\n",
       "      <th>reviewText</th>\n",
       "      <th>scoreSentiment</th>\n",
       "      <th>reviewUrl</th>\n",
       "    </tr>\n",
       "  </thead>\n",
       "  <tbody>\n",
       "    <tr>\n",
       "      <th>0</th>\n",
       "      <td>beavers</td>\n",
       "      <td>1145982</td>\n",
       "      <td>2003-05-23</td>\n",
       "      <td>Ivan M. Lincoln</td>\n",
       "      <td>False</td>\n",
       "      <td>3.5/4</td>\n",
       "      <td>fresh</td>\n",
       "      <td>Deseret News (Salt Lake City)</td>\n",
       "      <td>Timed to be just long enough for most youngste...</td>\n",
       "      <td>POSITIVE</td>\n",
       "      <td>http://www.deseretnews.com/article/700003233/B...</td>\n",
       "    </tr>\n",
       "    <tr>\n",
       "      <th>1</th>\n",
       "      <td>blood_mask</td>\n",
       "      <td>1636744</td>\n",
       "      <td>2007-06-02</td>\n",
       "      <td>The Foywonder</td>\n",
       "      <td>False</td>\n",
       "      <td>1/5</td>\n",
       "      <td>rotten</td>\n",
       "      <td>Dread Central</td>\n",
       "      <td>It doesn't matter if a movie costs 300 million...</td>\n",
       "      <td>NEGATIVE</td>\n",
       "      <td>http://www.dreadcentral.com/index.php?name=Rev...</td>\n",
       "    </tr>\n",
       "    <tr>\n",
       "      <th>2</th>\n",
       "      <td>city_hunter_shinjuku_private_eyes</td>\n",
       "      <td>2590987</td>\n",
       "      <td>2019-05-28</td>\n",
       "      <td>Reuben Baron</td>\n",
       "      <td>False</td>\n",
       "      <td>NaN</td>\n",
       "      <td>fresh</td>\n",
       "      <td>CBR</td>\n",
       "      <td>The choreography is so precise and lifelike at...</td>\n",
       "      <td>POSITIVE</td>\n",
       "      <td>https://www.cbr.com/city-hunter-shinjuku-priva...</td>\n",
       "    </tr>\n",
       "    <tr>\n",
       "      <th>3</th>\n",
       "      <td>city_hunter_shinjuku_private_eyes</td>\n",
       "      <td>2558908</td>\n",
       "      <td>2019-02-14</td>\n",
       "      <td>Matt Schley</td>\n",
       "      <td>False</td>\n",
       "      <td>2.5/5</td>\n",
       "      <td>rotten</td>\n",
       "      <td>Japan Times</td>\n",
       "      <td>The film's out-of-touch attempts at humor may ...</td>\n",
       "      <td>NEGATIVE</td>\n",
       "      <td>https://www.japantimes.co.jp/culture/2019/02/0...</td>\n",
       "    </tr>\n",
       "    <tr>\n",
       "      <th>4</th>\n",
       "      <td>dangerous_men_2015</td>\n",
       "      <td>2504681</td>\n",
       "      <td>2018-08-29</td>\n",
       "      <td>Pat Padua</td>\n",
       "      <td>False</td>\n",
       "      <td>NaN</td>\n",
       "      <td>fresh</td>\n",
       "      <td>DCist</td>\n",
       "      <td>Its clumsy determination is endearing and some...</td>\n",
       "      <td>POSITIVE</td>\n",
       "      <td>http://dcist.com/2015/11/out_of_frame_dangerou...</td>\n",
       "    </tr>\n",
       "  </tbody>\n",
       "</table>\n",
       "</div>"
      ],
      "text/plain": [
       "                                  id  reviewId creationDate       criticName  \\\n",
       "0                            beavers   1145982   2003-05-23  Ivan M. Lincoln   \n",
       "1                         blood_mask   1636744   2007-06-02    The Foywonder   \n",
       "2  city_hunter_shinjuku_private_eyes   2590987   2019-05-28     Reuben Baron   \n",
       "3  city_hunter_shinjuku_private_eyes   2558908   2019-02-14      Matt Schley   \n",
       "4                 dangerous_men_2015   2504681   2018-08-29        Pat Padua   \n",
       "\n",
       "   isTopCritic originalScore reviewState                 publicatioName  \\\n",
       "0        False         3.5/4       fresh  Deseret News (Salt Lake City)   \n",
       "1        False           1/5      rotten                  Dread Central   \n",
       "2        False           NaN       fresh                            CBR   \n",
       "3        False         2.5/5      rotten                    Japan Times   \n",
       "4        False           NaN       fresh                          DCist   \n",
       "\n",
       "                                          reviewText scoreSentiment  \\\n",
       "0  Timed to be just long enough for most youngste...       POSITIVE   \n",
       "1  It doesn't matter if a movie costs 300 million...       NEGATIVE   \n",
       "2  The choreography is so precise and lifelike at...       POSITIVE   \n",
       "3  The film's out-of-touch attempts at humor may ...       NEGATIVE   \n",
       "4  Its clumsy determination is endearing and some...       POSITIVE   \n",
       "\n",
       "                                           reviewUrl  \n",
       "0  http://www.deseretnews.com/article/700003233/B...  \n",
       "1  http://www.dreadcentral.com/index.php?name=Rev...  \n",
       "2  https://www.cbr.com/city-hunter-shinjuku-priva...  \n",
       "3  https://www.japantimes.co.jp/culture/2019/02/0...  \n",
       "4  http://dcist.com/2015/11/out_of_frame_dangerou...  "
      ]
     },
     "execution_count": 2,
     "metadata": {},
     "output_type": "execute_result"
    }
   ],
   "source": [
    "df.head()"
   ]
  },
  {
   "cell_type": "code",
   "execution_count": 3,
   "id": "5c97c4a3",
   "metadata": {},
   "outputs": [
    {
     "name": "stdout",
     "output_type": "stream",
     "text": [
      "<class 'pandas.core.frame.DataFrame'>\n",
      "RangeIndex: 1444963 entries, 0 to 1444962\n",
      "Data columns (total 11 columns):\n",
      " #   Column          Non-Null Count    Dtype \n",
      "---  ------          --------------    ----- \n",
      " 0   id              1444963 non-null  object\n",
      " 1   reviewId        1444963 non-null  int64 \n",
      " 2   creationDate    1444963 non-null  object\n",
      " 3   criticName      1444963 non-null  object\n",
      " 4   isTopCritic     1444963 non-null  bool  \n",
      " 5   originalScore   1009745 non-null  object\n",
      " 6   reviewState     1444963 non-null  object\n",
      " 7   publicatioName  1444963 non-null  object\n",
      " 8   reviewText      1375738 non-null  object\n",
      " 9   scoreSentiment  1444963 non-null  object\n",
      " 10  reviewUrl       1234038 non-null  object\n",
      "dtypes: bool(1), int64(1), object(9)\n",
      "memory usage: 111.6+ MB\n",
      "\n",
      "Valores únicos em scoreSentiment:\n"
     ]
    },
    {
     "data": {
      "application/vnd.microsoft.datawrangler.viewer.v0+json": {
       "columns": [
        {
         "name": "scoreSentiment",
         "rawType": "object",
         "type": "string"
        },
        {
         "name": "Count",
         "rawType": "int64",
         "type": "integer"
        },
        {
         "name": "Percentage",
         "rawType": "object",
         "type": "string"
        }
       ],
       "ref": "a80ff600-52c6-4fd6-bfa2-5d887d918c74",
       "rows": [
        [
         "POSITIVE",
         "963799",
         "66.7%"
        ],
        [
         "NEGATIVE",
         "481164",
         "33.3%"
        ]
       ],
       "shape": {
        "columns": 2,
        "rows": 2
       }
      },
      "text/html": [
       "<div>\n",
       "<style scoped>\n",
       "    .dataframe tbody tr th:only-of-type {\n",
       "        vertical-align: middle;\n",
       "    }\n",
       "\n",
       "    .dataframe tbody tr th {\n",
       "        vertical-align: top;\n",
       "    }\n",
       "\n",
       "    .dataframe thead th {\n",
       "        text-align: right;\n",
       "    }\n",
       "</style>\n",
       "<table border=\"1\" class=\"dataframe\">\n",
       "  <thead>\n",
       "    <tr style=\"text-align: right;\">\n",
       "      <th></th>\n",
       "      <th>Count</th>\n",
       "      <th>Percentage</th>\n",
       "    </tr>\n",
       "    <tr>\n",
       "      <th>scoreSentiment</th>\n",
       "      <th></th>\n",
       "      <th></th>\n",
       "    </tr>\n",
       "  </thead>\n",
       "  <tbody>\n",
       "    <tr>\n",
       "      <th>POSITIVE</th>\n",
       "      <td>963799</td>\n",
       "      <td>66.7%</td>\n",
       "    </tr>\n",
       "    <tr>\n",
       "      <th>NEGATIVE</th>\n",
       "      <td>481164</td>\n",
       "      <td>33.3%</td>\n",
       "    </tr>\n",
       "  </tbody>\n",
       "</table>\n",
       "</div>"
      ],
      "text/plain": [
       "                 Count Percentage\n",
       "scoreSentiment                   \n",
       "POSITIVE        963799      66.7%\n",
       "NEGATIVE        481164      33.3%"
      ]
     },
     "execution_count": 3,
     "metadata": {},
     "output_type": "execute_result"
    }
   ],
   "source": [
    "df.info()\n",
    "\n",
    "\n",
    "print(\"\\nValores únicos em scoreSentiment:\")\n",
    "count_values = df['scoreSentiment'].value_counts()\n",
    "percentages = df['scoreSentiment'].value_counts(normalize=True) * 100\n",
    "\n",
    "\n",
    "pd.DataFrame({\n",
    "    'Count': count_values,\n",
    "    'Percentage': percentages.round(2).astype(str) + '%'\n",
    "})"
   ]
  },
  {
   "cell_type": "code",
   "execution_count": 4,
   "id": "f82adfb5",
   "metadata": {},
   "outputs": [
    {
     "data": {
      "application/vnd.microsoft.datawrangler.viewer.v0+json": {
       "columns": [
        {
         "name": "index",
         "rawType": "int64",
         "type": "integer"
        },
        {
         "name": "scoreSentiment",
         "rawType": "object",
         "type": "string"
        },
        {
         "name": "scoreSentimentBinary",
         "rawType": "int64",
         "type": "integer"
        }
       ],
       "ref": "41507413-8d01-4d1d-baec-b8d09dbd6265",
       "rows": [
        [
         "0",
         "POSITIVE",
         "1"
        ],
        [
         "1",
         "NEGATIVE",
         "0"
        ],
        [
         "2",
         "POSITIVE",
         "1"
        ],
        [
         "3",
         "NEGATIVE",
         "0"
        ],
        [
         "4",
         "POSITIVE",
         "1"
        ]
       ],
       "shape": {
        "columns": 2,
        "rows": 5
       }
      },
      "text/html": [
       "<div>\n",
       "<style scoped>\n",
       "    .dataframe tbody tr th:only-of-type {\n",
       "        vertical-align: middle;\n",
       "    }\n",
       "\n",
       "    .dataframe tbody tr th {\n",
       "        vertical-align: top;\n",
       "    }\n",
       "\n",
       "    .dataframe thead th {\n",
       "        text-align: right;\n",
       "    }\n",
       "</style>\n",
       "<table border=\"1\" class=\"dataframe\">\n",
       "  <thead>\n",
       "    <tr style=\"text-align: right;\">\n",
       "      <th></th>\n",
       "      <th>scoreSentiment</th>\n",
       "      <th>scoreSentimentBinary</th>\n",
       "    </tr>\n",
       "  </thead>\n",
       "  <tbody>\n",
       "    <tr>\n",
       "      <th>0</th>\n",
       "      <td>POSITIVE</td>\n",
       "      <td>1</td>\n",
       "    </tr>\n",
       "    <tr>\n",
       "      <th>1</th>\n",
       "      <td>NEGATIVE</td>\n",
       "      <td>0</td>\n",
       "    </tr>\n",
       "    <tr>\n",
       "      <th>2</th>\n",
       "      <td>POSITIVE</td>\n",
       "      <td>1</td>\n",
       "    </tr>\n",
       "    <tr>\n",
       "      <th>3</th>\n",
       "      <td>NEGATIVE</td>\n",
       "      <td>0</td>\n",
       "    </tr>\n",
       "    <tr>\n",
       "      <th>4</th>\n",
       "      <td>POSITIVE</td>\n",
       "      <td>1</td>\n",
       "    </tr>\n",
       "  </tbody>\n",
       "</table>\n",
       "</div>"
      ],
      "text/plain": [
       "  scoreSentiment  scoreSentimentBinary\n",
       "0       POSITIVE                     1\n",
       "1       NEGATIVE                     0\n",
       "2       POSITIVE                     1\n",
       "3       NEGATIVE                     0\n",
       "4       POSITIVE                     1"
      ]
     },
     "execution_count": 4,
     "metadata": {},
     "output_type": "execute_result"
    }
   ],
   "source": [
    "df['scoreSentimentBinary'] = df['scoreSentiment'].map({'POSITIVE': 1, 'NEGATIVE': 0})\n",
    "\n",
    "df[['scoreSentiment', 'scoreSentimentBinary']].head()"
   ]
  },
  {
   "cell_type": "code",
   "execution_count": 5,
   "id": "59a69fa4",
   "metadata": {},
   "outputs": [
    {
     "name": "stdout",
     "output_type": "stream",
     "text": [
      "Total de críticas: 815199\n",
      "Total de críticas curtas: 637040\n",
      "Total de críticas longas: 178159\n"
     ]
    }
   ],
   "source": [
    "df.dropna(inplace=True)\n",
    "df.drop_duplicates(subset=['reviewText'], inplace=True)\n",
    "df['word_count'] = df['reviewText'].apply(lambda x: len(str(x).split()))\n",
    "\n",
    "short_reviews_df = df[df['word_count'] < 30]\n",
    "long_reviews_df = df[df['word_count'] >= 30]\n",
    "\n",
    "print(f\"Total de críticas: {len(df)}\")\n",
    "print(f\"Total de críticas curtas: {len(short_reviews_df)}\")\n",
    "print(f\"Total de críticas longas: {len(long_reviews_df)}\")"
   ]
  },
  {
   "cell_type": "code",
   "execution_count": 6,
   "id": "b73fa51a",
   "metadata": {},
   "outputs": [
    {
     "name": "stdout",
     "output_type": "stream",
     "text": [
      "Tamanho do conjunto de treino: 509632\n",
      "Tamanho do conjunto de teste: 127408\n"
     ]
    }
   ],
   "source": [
    "from sklearn.model_selection import train_test_split\n",
    "\n",
    "x = short_reviews_df['reviewText']\n",
    "y = short_reviews_df['scoreSentimentBinary']\n",
    "\n",
    "x_train, x_test, y_train, y_test = train_test_split(x, y, test_size=0.2, random_state=42, stratify=y)\n",
    "\n",
    "print(f\"Tamanho do conjunto de treino: {len(x_train)}\")\n",
    "print(f\"Tamanho do conjunto de teste: {len(x_test)}\")"
   ]
  },
  {
   "cell_type": "code",
   "execution_count": 7,
   "id": "64883d98",
   "metadata": {},
   "outputs": [
    {
     "name": "stderr",
     "output_type": "stream",
     "text": [
      "2025-10-04 16:56:34.109332: I tensorflow/core/platform/cpu_feature_guard.cc:210] This TensorFlow binary is optimized to use available CPU instructions in performance-critical operations.\n",
      "To enable the following instructions: AVX2 FMA, in other operations, rebuild TensorFlow with the appropriate compiler flags.\n"
     ]
    },
    {
     "name": "stdout",
     "output_type": "stream",
     "text": [
      "Num GPUs Available:  1\n",
      "Num CPUs Available:  1\n",
      "TensorFlow version: 2.20.0\n"
     ]
    }
   ],
   "source": [
    "import tensorflow as tf\n",
    "print(\"Num GPUs Available: \", len(tf.config.list_physical_devices('GPU')))\n",
    "print(\"Num CPUs Available: \", len(tf.config.list_physical_devices('CPU')))\n",
    "print(\"TensorFlow version:\", tf.__version__)\n"
   ]
  },
  {
   "cell_type": "code",
   "execution_count": 8,
   "id": "7b9be458",
   "metadata": {},
   "outputs": [
    {
     "name": "stdout",
     "output_type": "stream",
     "text": [
      "Training data shape: (509632, 30)\n",
      "Testing data shape: (127408, 30)\n"
     ]
    }
   ],
   "source": [
    "from tensorflow.keras.preprocessing.text import Tokenizer\n",
    "from tensorflow.keras.preprocessing.sequence import pad_sequences\n",
    "from tensorflow.keras.models import Sequential\n",
    "from tensorflow.keras.layers import Embedding, LSTM, Dense, Dropout, Bidirectional\n",
    "import numpy as np\n",
    "\n",
    "# Definir parâmetros\n",
    "max_words = 10000  # Tamanho máximo do vocabulário\n",
    "max_len = 30  # Comprimento máximo da sequência (já que estamos usando críticas curtas < 30 palavras)\n",
    "\n",
    "# Criar e treinar o tokenizador\n",
    "tokenizer = Tokenizer(num_words=max_words, oov_token=\"<OOV>\")\n",
    "tokenizer.fit_on_texts(x_train)\n",
    "\n",
    "# Converter textos em sequências\n",
    "x_train_seq = tokenizer.texts_to_sequences(x_train)\n",
    "x_test_seq = tokenizer.texts_to_sequences(x_test)\n",
    "\n",
    "# Preencher sequências para garantir comprimento uniforme\n",
    "x_train_pad = pad_sequences(x_train_seq, maxlen=max_len, padding='post', truncating='post')\n",
    "x_test_pad = pad_sequences(x_test_seq, maxlen=max_len, padding='post', truncating='post')\n",
    "\n",
    "# Verificar a forma dos nossos dados\n",
    "print(f\"Training data shape: {x_train_pad.shape}\")\n",
    "print(f\"Testing data shape: {x_test_pad.shape}\")"
   ]
  },
  {
   "cell_type": "code",
   "execution_count": 9,
   "id": "6230d5cc",
   "metadata": {},
   "outputs": [
    {
     "name": "stdout",
     "output_type": "stream",
     "text": [
      "Epoch 1/10\n"
     ]
    },
    {
     "name": "stderr",
     "output_type": "stream",
     "text": [
      "/home/leonardopn/Documents/Git/UFSM/rnn-lstm-presentation/.venv/lib/python3.12/site-packages/keras/src/layers/core/embedding.py:97: UserWarning: Argument `input_length` is deprecated. Just remove it.\n",
      "  warnings.warn(\n",
      "WARNING: All log messages before absl::InitializeLog() is called are written to STDERR\n",
      "I0000 00:00:1759607805.609865    5693 gpu_device.cc:2020] Created device /job:localhost/replica:0/task:0/device:GPU:0 with 5505 MB memory:  -> device: 0, name: NVIDIA GeForce RTX 4060 Ti, pci bus id: 0000:07:00.0, compute capability: 8.9\n",
      "2025-10-04 16:56:46.685186: I external/local_xla/xla/service/service.cc:163] XLA service 0x7f74c8008850 initialized for platform CUDA (this does not guarantee that XLA will be used). Devices:\n",
      "2025-10-04 16:56:46.685200: I external/local_xla/xla/service/service.cc:171]   StreamExecutor device (0): NVIDIA GeForce RTX 4060 Ti, Compute Capability 8.9\n",
      "2025-10-04 16:56:46.735770: I tensorflow/compiler/mlir/tensorflow/utils/dump_mlir_util.cc:269] disabling MLIR crash reproducer, set env var `MLIR_CRASH_REPRODUCER_DIRECTORY` to enable.\n",
      "2025-10-04 16:56:46.934452: I external/local_xla/xla/stream_executor/cuda/cuda_dnn.cc:473] Loaded cuDNN version 90300\n",
      "2025-10-04 16:56:47.029147: I external/local_xla/xla/service/gpu/autotuning/dot_search_space.cc:208] All configs were filtered out because none of them sufficiently match the hints. Maybe the hints set does not contain a good representative set of valid configs? Working around this by using the full hints set instead.\n",
      "2025-10-04 16:56:47.029174: I external/local_xla/xla/service/gpu/autotuning/dot_search_space.cc:208] All configs were filtered out because none of them sufficiently match the hints. Maybe the hints set does not contain a good representative set of valid configs? Working around this by using the full hints set instead.\n",
      "2025-10-04 16:56:47.029192: I external/local_xla/xla/service/gpu/autotuning/dot_search_space.cc:208] All configs were filtered out because none of them sufficiently match the hints. Maybe the hints set does not contain a good representative set of valid configs? Working around this by using the full hints set instead.\n",
      "2025-10-04 16:56:47.029207: I external/local_xla/xla/service/gpu/autotuning/dot_search_space.cc:208] All configs were filtered out because none of them sufficiently match the hints. Maybe the hints set does not contain a good representative set of valid configs? Working around this by using the full hints set instead.\n",
      "2025-10-04 16:56:47.953591: I external/local_xla/xla/stream_executor/cuda/subprocess_compilation.cc:346] ptxas warning : Registers are spilled to local memory in function 'gemm_fusion_dot_32', 360 bytes spill stores, 360 bytes spill loads\n",
      "\n",
      "2025-10-04 16:56:48.559699: I external/local_xla/xla/stream_executor/cuda/subprocess_compilation.cc:346] ptxas warning : Registers are spilled to local memory in function 'gemm_fusion_dot_34', 644 bytes spill stores, 644 bytes spill loads\n",
      "\n"
     ]
    },
    {
     "name": "stdout",
     "output_type": "stream",
     "text": [
      "\u001b[1m  57/7963\u001b[0m \u001b[37m━━━━━━━━━━━━━━━━━━━━\u001b[0m \u001b[1m21s\u001b[0m 3ms/step - accuracy: 0.5764 - loss: 0.6879 "
     ]
    },
    {
     "name": "stderr",
     "output_type": "stream",
     "text": [
      "I0000 00:00:1759607809.547941    5902 device_compiler.h:196] Compiled cluster using XLA!  This line is logged at most once for the lifetime of the process.\n"
     ]
    },
    {
     "name": "stdout",
     "output_type": "stream",
     "text": [
      "\u001b[1m7952/7963\u001b[0m \u001b[32m━━━━━━━━━━━━━━━━━━━\u001b[0m\u001b[37m━\u001b[0m \u001b[1m0s\u001b[0m 2ms/step - accuracy: 0.6575 - loss: 0.6465"
     ]
    },
    {
     "name": "stderr",
     "output_type": "stream",
     "text": [
      "2025-10-04 16:57:08.588246: I external/local_xla/xla/service/gpu/autotuning/dot_search_space.cc:208] All configs were filtered out because none of them sufficiently match the hints. Maybe the hints set does not contain a good representative set of valid configs? Working around this by using the full hints set instead.\n",
      "2025-10-04 16:57:09.050185: I external/local_xla/xla/stream_executor/cuda/subprocess_compilation.cc:346] ptxas warning : Registers are spilled to local memory in function 'gemm_fusion_dot_14', 360 bytes spill stores, 360 bytes spill loads\n",
      "\n",
      "2025-10-04 16:57:11.014969: I external/local_xla/xla/service/gpu/autotuning/dot_search_space.cc:208] All configs were filtered out because none of them sufficiently match the hints. Maybe the hints set does not contain a good representative set of valid configs? Working around this by using the full hints set instead.\n",
      "2025-10-04 16:57:11.014990: I external/local_xla/xla/service/gpu/autotuning/dot_search_space.cc:208] All configs were filtered out because none of them sufficiently match the hints. Maybe the hints set does not contain a good representative set of valid configs? Working around this by using the full hints set instead.\n",
      "2025-10-04 16:57:11.259441: I external/local_xla/xla/stream_executor/cuda/subprocess_compilation.cc:346] ptxas warning : Registers are spilled to local memory in function 'gemm_fusion_dot_14', 8 bytes spill stores, 8 bytes spill loads\n",
      "\n",
      "2025-10-04 16:57:11.487999: I external/local_xla/xla/stream_executor/cuda/subprocess_compilation.cc:346] ptxas warning : Registers are spilled to local memory in function 'gemm_fusion_dot_14', 8 bytes spill stores, 8 bytes spill loads\n",
      "\n",
      "2025-10-04 16:57:11.665498: I external/local_xla/xla/stream_executor/cuda/subprocess_compilation.cc:346] ptxas warning : Registers are spilled to local memory in function 'gemm_fusion_dot_14', 536 bytes spill stores, 536 bytes spill loads\n",
      "\n",
      "2025-10-04 16:57:11.668698: I external/local_xla/xla/stream_executor/cuda/subprocess_compilation.cc:346] ptxas warning : Registers are spilled to local memory in function 'gemm_fusion_dot_13', 20 bytes spill stores, 20 bytes spill loads\n",
      "\n",
      "2025-10-04 16:57:11.753328: I external/local_xla/xla/stream_executor/cuda/subprocess_compilation.cc:346] ptxas warning : Registers are spilled to local memory in function 'gemm_fusion_dot_13', 36 bytes spill stores, 36 bytes spill loads\n",
      "\n"
     ]
    },
    {
     "name": "stdout",
     "output_type": "stream",
     "text": [
      "\u001b[1m7963/7963\u001b[0m \u001b[32m━━━━━━━━━━━━━━━━━━━━\u001b[0m\u001b[37m\u001b[0m \u001b[1m26s\u001b[0m 3ms/step - accuracy: 0.6616 - loss: 0.6426 - val_accuracy: 0.6623 - val_loss: 0.6402\n",
      "Epoch 2/10\n",
      "\u001b[1m7963/7963\u001b[0m \u001b[32m━━━━━━━━━━━━━━━━━━━━\u001b[0m\u001b[37m\u001b[0m \u001b[1m21s\u001b[0m 3ms/step - accuracy: 0.6617 - loss: 0.6413 - val_accuracy: 0.6623 - val_loss: 0.6397\n",
      "Epoch 3/10\n",
      "\u001b[1m7963/7963\u001b[0m \u001b[32m━━━━━━━━━━━━━━━━━━━━\u001b[0m\u001b[37m\u001b[0m \u001b[1m20s\u001b[0m 3ms/step - accuracy: 0.6623 - loss: 0.6395 - val_accuracy: 0.6623 - val_loss: 0.6381\n",
      "Epoch 4/10\n",
      "\u001b[1m7963/7963\u001b[0m \u001b[32m━━━━━━━━━━━━━━━━━━━━\u001b[0m\u001b[37m\u001b[0m \u001b[1m20s\u001b[0m 3ms/step - accuracy: 0.6629 - loss: 0.6335 - val_accuracy: 0.6672 - val_loss: 0.6296\n",
      "Epoch 5/10\n",
      "\u001b[1m7963/7963\u001b[0m \u001b[32m━━━━━━━━━━━━━━━━━━━━\u001b[0m\u001b[37m\u001b[0m \u001b[1m20s\u001b[0m 3ms/step - accuracy: 0.6645 - loss: 0.6266 - val_accuracy: 0.6694 - val_loss: 0.6206\n",
      "Epoch 6/10\n",
      "\u001b[1m7963/7963\u001b[0m \u001b[32m━━━━━━━━━━━━━━━━━━━━\u001b[0m\u001b[37m\u001b[0m \u001b[1m20s\u001b[0m 3ms/step - accuracy: 0.6679 - loss: 0.6204 - val_accuracy: 0.6729 - val_loss: 0.6167\n",
      "Epoch 7/10\n",
      "\u001b[1m7963/7963\u001b[0m \u001b[32m━━━━━━━━━━━━━━━━━━━━\u001b[0m\u001b[37m\u001b[0m \u001b[1m20s\u001b[0m 3ms/step - accuracy: 0.6633 - loss: 0.6241 - val_accuracy: 0.6670 - val_loss: 0.6218\n",
      "Epoch 8/10\n",
      "\u001b[1m7963/7963\u001b[0m \u001b[32m━━━━━━━━━━━━━━━━━━━━\u001b[0m\u001b[37m\u001b[0m \u001b[1m20s\u001b[0m 3ms/step - accuracy: 0.6676 - loss: 0.6191 - val_accuracy: 0.6719 - val_loss: 0.6164\n",
      "Epoch 9/10\n",
      "\u001b[1m7963/7963\u001b[0m \u001b[32m━━━━━━━━━━━━━━━━━━━━\u001b[0m\u001b[37m\u001b[0m \u001b[1m20s\u001b[0m 3ms/step - accuracy: 0.6713 - loss: 0.6167 - val_accuracy: 0.6655 - val_loss: 0.6295\n",
      "Epoch 10/10\n",
      "\u001b[1m7963/7963\u001b[0m \u001b[32m━━━━━━━━━━━━━━━━━━━━\u001b[0m\u001b[37m\u001b[0m \u001b[1m20s\u001b[0m 3ms/step - accuracy: 0.6744 - loss: 0.6094 - val_accuracy: 0.6846 - val_loss: 0.5986\n"
     ]
    },
    {
     "data": {
      "text/html": [
       "<pre style=\"white-space:pre;overflow-x:auto;line-height:normal;font-family:Menlo,'DejaVu Sans Mono',consolas,'Courier New',monospace\"><span style=\"font-weight: bold\">Model: \"sequential\"</span>\n",
       "</pre>\n"
      ],
      "text/plain": [
       "\u001b[1mModel: \"sequential\"\u001b[0m\n"
      ]
     },
     "metadata": {},
     "output_type": "display_data"
    },
    {
     "data": {
      "text/html": [
       "<pre style=\"white-space:pre;overflow-x:auto;line-height:normal;font-family:Menlo,'DejaVu Sans Mono',consolas,'Courier New',monospace\">┏━━━━━━━━━━━━━━━━━━━━━━━━━━━━━━━━━┳━━━━━━━━━━━━━━━━━━━━━━━━┳━━━━━━━━━━━━━━━┓\n",
       "┃<span style=\"font-weight: bold\"> Layer (type)                    </span>┃<span style=\"font-weight: bold\"> Output Shape           </span>┃<span style=\"font-weight: bold\">       Param # </span>┃\n",
       "┡━━━━━━━━━━━━━━━━━━━━━━━━━━━━━━━━━╇━━━━━━━━━━━━━━━━━━━━━━━━╇━━━━━━━━━━━━━━━┩\n",
       "│ embedding (<span style=\"color: #0087ff; text-decoration-color: #0087ff\">Embedding</span>)           │ (<span style=\"color: #00af00; text-decoration-color: #00af00\">64</span>, <span style=\"color: #00af00; text-decoration-color: #00af00\">30</span>, <span style=\"color: #00af00; text-decoration-color: #00af00\">64</span>)           │       <span style=\"color: #00af00; text-decoration-color: #00af00\">640,000</span> │\n",
       "├─────────────────────────────────┼────────────────────────┼───────────────┤\n",
       "│ simple_rnn (<span style=\"color: #0087ff; text-decoration-color: #0087ff\">SimpleRNN</span>)          │ (<span style=\"color: #00af00; text-decoration-color: #00af00\">64</span>, <span style=\"color: #00af00; text-decoration-color: #00af00\">128</span>)              │        <span style=\"color: #00af00; text-decoration-color: #00af00\">24,704</span> │\n",
       "├─────────────────────────────────┼────────────────────────┼───────────────┤\n",
       "│ dense (<span style=\"color: #0087ff; text-decoration-color: #0087ff\">Dense</span>)                   │ (<span style=\"color: #00af00; text-decoration-color: #00af00\">64</span>, <span style=\"color: #00af00; text-decoration-color: #00af00\">1</span>)                │           <span style=\"color: #00af00; text-decoration-color: #00af00\">129</span> │\n",
       "└─────────────────────────────────┴────────────────────────┴───────────────┘\n",
       "</pre>\n"
      ],
      "text/plain": [
       "┏━━━━━━━━━━━━━━━━━━━━━━━━━━━━━━━━━┳━━━━━━━━━━━━━━━━━━━━━━━━┳━━━━━━━━━━━━━━━┓\n",
       "┃\u001b[1m \u001b[0m\u001b[1mLayer (type)                   \u001b[0m\u001b[1m \u001b[0m┃\u001b[1m \u001b[0m\u001b[1mOutput Shape          \u001b[0m\u001b[1m \u001b[0m┃\u001b[1m \u001b[0m\u001b[1m      Param #\u001b[0m\u001b[1m \u001b[0m┃\n",
       "┡━━━━━━━━━━━━━━━━━━━━━━━━━━━━━━━━━╇━━━━━━━━━━━━━━━━━━━━━━━━╇━━━━━━━━━━━━━━━┩\n",
       "│ embedding (\u001b[38;5;33mEmbedding\u001b[0m)           │ (\u001b[38;5;34m64\u001b[0m, \u001b[38;5;34m30\u001b[0m, \u001b[38;5;34m64\u001b[0m)           │       \u001b[38;5;34m640,000\u001b[0m │\n",
       "├─────────────────────────────────┼────────────────────────┼───────────────┤\n",
       "│ simple_rnn (\u001b[38;5;33mSimpleRNN\u001b[0m)          │ (\u001b[38;5;34m64\u001b[0m, \u001b[38;5;34m128\u001b[0m)              │        \u001b[38;5;34m24,704\u001b[0m │\n",
       "├─────────────────────────────────┼────────────────────────┼───────────────┤\n",
       "│ dense (\u001b[38;5;33mDense\u001b[0m)                   │ (\u001b[38;5;34m64\u001b[0m, \u001b[38;5;34m1\u001b[0m)                │           \u001b[38;5;34m129\u001b[0m │\n",
       "└─────────────────────────────────┴────────────────────────┴───────────────┘\n"
      ]
     },
     "metadata": {},
     "output_type": "display_data"
    },
    {
     "data": {
      "text/html": [
       "<pre style=\"white-space:pre;overflow-x:auto;line-height:normal;font-family:Menlo,'DejaVu Sans Mono',consolas,'Courier New',monospace\"><span style=\"font-weight: bold\"> Total params: </span><span style=\"color: #00af00; text-decoration-color: #00af00\">1,994,501</span> (7.61 MB)\n",
       "</pre>\n"
      ],
      "text/plain": [
       "\u001b[1m Total params: \u001b[0m\u001b[38;5;34m1,994,501\u001b[0m (7.61 MB)\n"
      ]
     },
     "metadata": {},
     "output_type": "display_data"
    },
    {
     "data": {
      "text/html": [
       "<pre style=\"white-space:pre;overflow-x:auto;line-height:normal;font-family:Menlo,'DejaVu Sans Mono',consolas,'Courier New',monospace\"><span style=\"font-weight: bold\"> Trainable params: </span><span style=\"color: #00af00; text-decoration-color: #00af00\">664,833</span> (2.54 MB)\n",
       "</pre>\n"
      ],
      "text/plain": [
       "\u001b[1m Trainable params: \u001b[0m\u001b[38;5;34m664,833\u001b[0m (2.54 MB)\n"
      ]
     },
     "metadata": {},
     "output_type": "display_data"
    },
    {
     "data": {
      "text/html": [
       "<pre style=\"white-space:pre;overflow-x:auto;line-height:normal;font-family:Menlo,'DejaVu Sans Mono',consolas,'Courier New',monospace\"><span style=\"font-weight: bold\"> Non-trainable params: </span><span style=\"color: #00af00; text-decoration-color: #00af00\">0</span> (0.00 B)\n",
       "</pre>\n"
      ],
      "text/plain": [
       "\u001b[1m Non-trainable params: \u001b[0m\u001b[38;5;34m0\u001b[0m (0.00 B)\n"
      ]
     },
     "metadata": {},
     "output_type": "display_data"
    },
    {
     "data": {
      "text/html": [
       "<pre style=\"white-space:pre;overflow-x:auto;line-height:normal;font-family:Menlo,'DejaVu Sans Mono',consolas,'Courier New',monospace\"><span style=\"font-weight: bold\"> Optimizer params: </span><span style=\"color: #00af00; text-decoration-color: #00af00\">1,329,668</span> (5.07 MB)\n",
       "</pre>\n"
      ],
      "text/plain": [
       "\u001b[1m Optimizer params: \u001b[0m\u001b[38;5;34m1,329,668\u001b[0m (5.07 MB)\n"
      ]
     },
     "metadata": {},
     "output_type": "display_data"
    }
   ],
   "source": [
    "from tensorflow.keras.layers import SimpleRNN\n",
    "\n",
    "\n",
    "# Construir modelo RNN para análise de sentimento\n",
    "model = Sequential([\n",
    "    # Camada de Embedding para converter tokens em vetores de tamanho fixo\n",
    "    Embedding(input_dim=max_words, output_dim=64, input_length=max_len),\n",
    "    \n",
    "    # Camada SimpleRNN \n",
    "    SimpleRNN(128, dropout=0.2, recurrent_dropout=0.2),\n",
    "    \n",
    "    # Camada de saída com ativação sigmoid para classificação binária\n",
    "    Dense(1, activation='sigmoid')\n",
    "])\n",
    "\n",
    "# Compilar o modelo\n",
    "model.compile(\n",
    "    optimizer='adam',\n",
    "    loss='binary_crossentropy',\n",
    "    metrics=['accuracy']\n",
    ")\n",
    "\n",
    "history = model.fit(x_train_pad, y_train, epochs=10, batch_size=64, validation_data=(x_test_pad, y_test))\n",
    "model.summary()"
   ]
  },
  {
   "cell_type": "code",
   "execution_count": 10,
   "id": "195533f2",
   "metadata": {},
   "outputs": [
    {
     "name": "stderr",
     "output_type": "stream",
     "text": [
      "2025-10-04 17:00:15.749590: I external/local_xla/xla/service/gpu/autotuning/dot_search_space.cc:208] All configs were filtered out because none of them sufficiently match the hints. Maybe the hints set does not contain a good representative set of valid configs? Working around this by using the full hints set instead.\n",
      "2025-10-04 17:00:16.178214: I external/local_xla/xla/stream_executor/cuda/subprocess_compilation.cc:346] ptxas warning : Registers are spilled to local memory in function 'gemm_fusion_dot_13', 36 bytes spill stores, 36 bytes spill loads\n",
      "\n"
     ]
    },
    {
     "name": "stdout",
     "output_type": "stream",
     "text": [
      "\u001b[1m3982/3982\u001b[0m \u001b[32m━━━━━━━━━━━━━━━━━━━━\u001b[0m\u001b[37m\u001b[0m \u001b[1m4s\u001b[0m 932us/step - accuracy: 0.6846 - loss: 0.5986\n",
      "Perda de Teste: 0.5986\n",
      "Precisão de Teste: 0.6846\n"
     ]
    },
    {
     "data": {
      "image/png": "[encoded data removed]",
      "text/plain": [
       "<Figure size 1200x500 with 2 Axes>"
      ]
     },
     "metadata": {},
     "output_type": "display_data"
    },
    {
     "name": "stdout",
     "output_type": "stream",
     "text": [
      "\n",
      "Testando modelo com exemplos de críticas:\n",
      "Crítica: 'This movie was great!'\n",
      "Previsto: NEGATIVO (probabilidade: 0.4288, confiança: 0.5712)\n",
      "---\n",
      "Crítica: 'Absolutely loved it'\n",
      "Previsto: POSITIVO (probabilidade: 0.7401, confiança: 0.7401)\n",
      "---\n",
      "Crítica: 'Terrible film, waste of time'\n",
      "Previsto: NEGATIVO (probabilidade: 0.4288, confiança: 0.5712)\n",
      "---\n",
      "Crítica: 'Boring and predictable'\n",
      "Previsto: NEGATIVO (probabilidade: 0.4365, confiança: 0.5635)\n",
      "---\n"
     ]
    },
    {
     "data": {
      "image/png": "[encoded data removed]",
      "text/plain": [
       "<Figure size 800x600 with 2 Axes>"
      ]
     },
     "metadata": {},
     "output_type": "display_data"
    },
    {
     "name": "stdout",
     "output_type": "stream",
     "text": [
      "\n",
      "Relatório de Classificação:\n",
      "              precision    recall  f1-score   support\n",
      "\n",
      "    NEGATIVO       0.57      0.27      0.37     43025\n",
      "    POSITIVO       0.71      0.90      0.79     84383\n",
      "\n",
      "    accuracy                           0.68    127408\n",
      "   macro avg       0.64      0.58      0.58    127408\n",
      "weighted avg       0.66      0.68      0.65    127408\n",
      "\n"
     ]
    }
   ],
   "source": [
    "from sklearn.metrics import confusion_matrix, classification_report\n",
    "import seaborn as sns\n",
    "\n",
    "# Avaliar desempenho do modelo\n",
    "loss, accuracy = model.evaluate(x_test_pad, y_test, verbose=1)\n",
    "print(f\"Perda de Teste: {loss:.4f}\")\n",
    "print(f\"Precisão de Teste: {accuracy:.4f}\")\n",
    "\n",
    "# Plotar curvas de aprendizado\n",
    "import matplotlib.pyplot as plt\n",
    "\n",
    "# Verificar se o histórico do modelo está disponível e plotar curvas de aprendizado\n",
    "if hasattr(model, 'history') and model.history.history:\n",
    "    history = model.history.history\n",
    "    \n",
    "    plt.figure(figsize=(12, 5))\n",
    "    \n",
    "    # Plotar precisão\n",
    "    plt.subplot(1, 2, 1)\n",
    "    plt.plot(history['accuracy'], label='Precisão de Treino')\n",
    "    plt.plot(history['val_accuracy'], label='Precisão de Validação')\n",
    "    plt.title('Precisão do Modelo')\n",
    "    plt.xlabel('Época')\n",
    "    plt.ylabel('Precisão')\n",
    "    plt.legend()\n",
    "    \n",
    "    # Plotar perda\n",
    "    plt.subplot(1, 2, 2)\n",
    "    plt.plot(history['loss'], label='Perda de Treino')\n",
    "    plt.plot(history['val_loss'], label='Perda de Validação')\n",
    "    plt.title('Perda do Modelo')\n",
    "    plt.xlabel('Época')\n",
    "    plt.ylabel('Perda')\n",
    "    plt.legend()\n",
    "    \n",
    "    plt.tight_layout()\n",
    "    plt.show()\n",
    "else:\n",
    "    print(\"Histórico de treinamento não encontrado.\")\n",
    "\n",
    "# Função para prever sentimento para novas críticas\n",
    "def predict_sentiment(text):\n",
    "    # Tokenizar e preencher o texto\n",
    "    sequence = tokenizer.texts_to_sequences([text])\n",
    "    padded_sequence = pad_sequences(sequence, maxlen=max_len, padding='post', truncating='post')\n",
    "    \n",
    "    # Fazer previsão\n",
    "    prediction = model.predict(padded_sequence, verbose=0)[0][0]\n",
    "    \n",
    "    # Interpretar resultado\n",
    "    sentiment = \"POSITIVO\" if prediction > 0.5 else \"NEGATIVO\"\n",
    "    confidence = prediction if prediction > 0.5 else 1 - prediction\n",
    "    \n",
    "    return sentiment, prediction, confidence\n",
    "\n",
    "# Testar com exemplos de críticas\n",
    "example_reviews = [\n",
    "    \"This movie was great!\",\n",
    "    \"Absolutely loved it\",\n",
    "    \"Terrible film, waste of time\",\n",
    "    \"Boring and predictable\"\n",
    "]\n",
    "\n",
    "print(\"\\nTestando modelo com exemplos de críticas:\")\n",
    "for review in example_reviews:\n",
    "    sentiment, prob, conf = predict_sentiment(review)\n",
    "    print(f\"Crítica: '{review}'\")\n",
    "    print(f\"Previsto: {sentiment} (probabilidade: {prob:.4f}, confiança: {conf:.4f})\")\n",
    "    print(\"---\")\n",
    "\n",
    "# Criar matriz de confusão\n",
    "y_pred_prob = model.predict(x_test_pad, verbose=0)\n",
    "y_pred = (y_pred_prob > 0.5).astype(int)\n",
    "\n",
    "plt.figure(figsize=(8, 6))\n",
    "sns.heatmap(confusion_matrix(y_test, y_pred), annot=True, fmt='d', cmap='Blues',\n",
    "            xticklabels=['NEGATIVO', 'POSITIVO'], yticklabels=['NEGATIVO', 'POSITIVO'])\n",
    "plt.title('Matriz de Confusão')\n",
    "plt.ylabel('Rótulo Verdadeiro')\n",
    "plt.xlabel('Rótulo Previsto')\n",
    "plt.show()\n",
    "\n",
    "print(\"\\nRelatório de Classificação:\")\n",
    "print(classification_report(y_test, y_pred, target_names=['NEGATIVO', 'POSITIVO']))\n"
   ]
  }
 ],
 "metadata": {
  "kernelspec": {
   "display_name": "rnn-lstm-presentation",
   "language": "python",
   "name": "python3"
  },
  "language_info": {
   "codemirror_mode": {
    "name": "ipython",
    "version": 3
   },
   "file_extension": ".py",
   "mimetype": "text/x-python",
   "name": "python",
   "nbconvert_exporter": "python",
   "pygments_lexer": "ipython3",
   "version": "3.12.11"
  }
 },
 "nbformat": 4,
 "nbformat_minor": 5
}
